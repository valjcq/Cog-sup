{
  "cells": [
    {
      "cell_type": "markdown",
      "metadata": {
        "id": "ZBoIeKEljgZg"
      },
      "source": [
        "Marie Candito - Master Linguistique Informatique - Université Paris Cité\n",
        "\n",
        "**COPY THIS COLAB NOTEBOOK** if you want to modify it."
      ]
    },
    {
      "cell_type": "markdown",
      "metadata": {
        "id": "RUEaI4Nh9p4S"
      },
      "source": [
        "# Exercises on vectors and matrices\n",
        "\n",
        "Answer the following questions using paper and pencil:\n",
        "\n",
        "\n",
        "1.   Compute the dot product of $v1 = (1, -2, 2)$ and $v2=(-3, 6,2)$\n",
        "\n",
        "2.   Compute the norm of $v1$ and $v2$\n",
        "\n",
        "3.   Compute cos(v1,v2) in two ways\n",
        " - dot product divided by norm of v1 and norm of v2\n",
        " - first normalize v1 and v2 : divide each by their norm, and then compute the dot product between v1' and v2'\n",
        "\n",
        "4.   Transpose the matrix $A = \\begin{pmatrix}\n",
        " 1 & -2 & 2\\\\\n",
        " -3 & 4 & 0\\\\\n",
        " 4 & 2 & 4\\\\\n",
        " -2 & -2 & 1\n",
        " \\end{pmatrix}$\n",
        "\n",
        "5.   Let $B = \\begin{pmatrix}\n",
        " -3 & 6 & 2\\\\\n",
        "  0 & 3 & -4\\\\\n",
        " \\end{pmatrix}$.\n",
        "     - Can we compute the matrix product AB ?\n",
        "     - (Remember matrix product $M_1M_2$ computes the dot product of every row in $M_1$ with every column in $M_2$)\n",
        "\n",
        "6.   Find out which of these two matrix products is feasible, and compute it\n",
        "   - $A(B^T)$\n",
        "   - or $(A^T)B$\n",
        "   - (drawing the matrices can help you)\n",
        "\n",
        "7.   Describe in plain words (French or English) which dot products were computed in the previous question.\n",
        "\n"
      ]
    },
    {
      "cell_type": "markdown",
      "metadata": {
        "id": "4XfEdAyZjgZd"
      },
      "source": [
        "# Tensors in python: the ndarray type in numpy"
      ]
    },
    {
      "cell_type": "markdown",
      "metadata": {
        "id": "OZmUsYBcjgZi"
      },
      "source": [
        "The numpy.ndarray type can be used to represent multidimensional arrays\n",
        "(\"n-dimensional\" hence the name ndarray), corresponding to the mathematical concept of  **tensor**.\n",
        "\n",
        "A one-dimensional array corresponds to a **vector** (= tensor with 1 axis (or dimension)).\n",
        "\n",
        "A 2-dimensional array corresponds to a **matrix** (= tensor with 2 axis).\n",
        "\n",
        "More generally, a n-dimensional array corresponds to a **tensor** with n **axis**.\n",
        "\n",
        "An ndarray can be built with numpy methods such as zeros, ones, random.rand, arange ...\n"
      ]
    },
    {
      "cell_type": "markdown",
      "metadata": {
        "id": "QJLfB_FVjgZk"
      },
      "source": [
        "## Initialize and modify tensors"
      ]
    },
    {
      "cell_type": "markdown",
      "metadata": {
        "id": "r9-GYO6DdQFE"
      },
      "source": [
        "#### Initialization with zeros"
      ]
    },
    {
      "cell_type": "code",
      "execution_count": 45,
      "metadata": {
        "colab": {
          "base_uri": "https://localhost:8080/"
        },
        "id": "eI8NGffIjgZl",
        "outputId": "f115ec1f-8c67-4b78-edea-36e636ab3f35"
      },
      "outputs": [
        {
          "name": "stdout",
          "output_type": "stream",
          "text": [
            "[[0. 0. 0. 0.]\n",
            " [0. 0. 0. 0.]\n",
            " [0. 0. 0. 0.]]\n",
            "<class 'numpy.ndarray'>\n",
            "(3, 4)\n"
          ]
        }
      ],
      "source": [
        "import numpy as np\n",
        "\n",
        "m1 = np.zeros( (3,4) ) # a matrix with 3 rows and 4 columns\n",
        "                       # bidimensional ndarray\n",
        "print(m1)\n",
        "\n",
        "print(type(m1))\n",
        "\n",
        "print(m1.shape)  # the \"shape\" is a tuple providing the size of each axis"
      ]
    },
    {
      "cell_type": "code",
      "execution_count": 46,
      "metadata": {
        "colab": {
          "base_uri": "https://localhost:8080/"
        },
        "id": "AOVTc3b7jgZn",
        "outputId": "f8464bfd-9951-480b-e299-acf8ee899e2e"
      },
      "outputs": [
        {
          "name": "stdout",
          "output_type": "stream",
          "text": [
            "[[1 2]\n",
            " [3 4]]\n",
            "2\n",
            "<class 'numpy.ndarray'>\n"
          ]
        }
      ],
      "source": [
        "m = np.array( [ [1,2], [3,4]])\n",
        "print(m)\n",
        "\n",
        "print(m[0,1])\n",
        "print(type(m))"
      ]
    },
    {
      "cell_type": "markdown",
      "metadata": {
        "id": "tH7rQuXdjgZw"
      },
      "source": [
        "#### `np.array` : Initialization via lists of lists of lists ..."
      ]
    },
    {
      "cell_type": "code",
      "execution_count": 47,
      "metadata": {
        "colab": {
          "base_uri": "https://localhost:8080/"
        },
        "id": "Kic7ghgRjgZx",
        "outputId": "246ad144-708b-4c75-c1f0-70a6ba5669b3"
      },
      "outputs": [
        {
          "name": "stdout",
          "output_type": "stream",
          "text": [
            "[[1 2]\n",
            " [3 4]\n",
            " [5 6]]\n",
            "(3, 2)\n"
          ]
        }
      ],
      "source": [
        "m3 = np.array([[1,2],[3,4],[5,6]])\n",
        "\n",
        "print(m3)\n",
        "\n",
        "print(m3.shape)"
      ]
    },
    {
      "cell_type": "code",
      "execution_count": 48,
      "metadata": {
        "colab": {
          "base_uri": "https://localhost:8080/"
        },
        "id": "3C4snf6UjgZy",
        "outputId": "dbfc57c7-9e96-4b94-9400-c24ba581c71e"
      },
      "outputs": [
        {
          "name": "stdout",
          "output_type": "stream",
          "text": [
            "[[[1 2]\n",
            "  [3 4]]\n",
            "\n",
            " [[5 6]\n",
            "  [7 8]]]\n",
            "(2, 2, 2)\n",
            "6\n"
          ]
        }
      ],
      "source": [
        "a=np.array([[[1,2],[3,4]],[[5,6],[7,8]]])  # tensor with 3 axis, 2x2x2\n",
        "                                           # (cube, each face is a 2x2 matrix)\n",
        "print(a)\n",
        "print(a.shape)\n",
        "\n",
        "# get one element : ranks along each axis starts at 0\n",
        "print(a[1,0,1])"
      ]
    },
    {
      "cell_type": "markdown",
      "metadata": {
        "id": "o_6hfFS-3vQY"
      },
      "source": [
        "### Reshaping"
      ]
    },
    {
      "cell_type": "code",
      "execution_count": 49,
      "metadata": {
        "colab": {
          "base_uri": "https://localhost:8080/"
        },
        "id": "8CkM8szjjgZy",
        "outputId": "bfbc474a-e31e-49a8-f75d-f14eb2df3c5a"
      },
      "outputs": [
        {
          "name": "stdout",
          "output_type": "stream",
          "text": [
            "[ 0  1  2  3  4  5  6  7  8  9 10 11 12 13 14 15]\n",
            "(16,)\n",
            "[[ 0  1  2  3]\n",
            " [ 4  5  6  7]\n",
            " [ 8  9 10 11]\n",
            " [12 13 14 15]]\n",
            "(4, 4)\n",
            "[[[ 0  1  2  3]\n",
            "  [ 4  5  6  7]]\n",
            "\n",
            " [[ 8  9 10 11]\n",
            "  [12 13 14 15]]]\n",
            "[ 0  1  2  3  0  5  6  7  8  9 10 11 12 13 14 15]\n"
          ]
        }
      ],
      "source": [
        "# range + reshape\n",
        "a = np.array (range(16))\n",
        "print(a)\n",
        "print(a.shape)\n",
        "\n",
        "b = a.reshape(4,4)\n",
        "print(b)\n",
        "print(b.shape)\n",
        "\n",
        "print(a.reshape(2,2,4))\n",
        "\n",
        "# NB: reshape does not copy!!\n",
        "b[1,0] = 0\n",
        "print(a)\n",
        "\n"
      ]
    },
    {
      "cell_type": "code",
      "execution_count": null,
      "metadata": {
        "id": "0ikZEvsi3gef"
      },
      "outputs": [],
      "source": []
    },
    {
      "cell_type": "markdown",
      "metadata": {
        "id": "RMNKGujMcoHw"
      },
      "source": [
        "### Random initialization"
      ]
    },
    {
      "cell_type": "code",
      "execution_count": 50,
      "metadata": {
        "colab": {
          "base_uri": "https://localhost:8080/"
        },
        "id": "RXYtrPo1jgZv",
        "outputId": "8203631c-2038-45fd-ece9-6d433b8c0d67"
      },
      "outputs": [
        {
          "name": "stdout",
          "output_type": "stream",
          "text": [
            "[[0.23654888 0.58814774]\n",
            " [0.69115098 0.62306685]]\n"
          ]
        }
      ],
      "source": [
        "m2 = np.random.rand(2,2)  # a 2x2 matrix, containing random floats between 0 and 1\n",
        "print(m2)"
      ]
    },
    {
      "cell_type": "markdown",
      "metadata": {
        "id": "MI9MV5Wi3Z-O"
      },
      "source": [
        "### linspace initialization"
      ]
    },
    {
      "cell_type": "code",
      "execution_count": 51,
      "metadata": {
        "colab": {
          "base_uri": "https://localhost:8080/"
        },
        "id": "Bc6FUoKdjgZ0",
        "outputId": "277cf498-3d74-4582-cf09-6f17e83878a8"
      },
      "outputs": [
        {
          "name": "stdout",
          "output_type": "stream",
          "text": [
            "[ 2.5  4.   5.5  7.   8.5 10. ]\n",
            "(6,)\n"
          ]
        }
      ],
      "source": [
        "# linspace initialization\n",
        "a = np.linspace(2.5, 10, 6)  # lower bound, upper bound, nb of elements\n",
        "                           # = 6 elements, uniformely distributed\n",
        "                           #   in the range [2.5, 10]\n",
        "print(a)\n",
        "type(a)\n",
        "print(a.shape)"
      ]
    },
    {
      "cell_type": "markdown",
      "metadata": {
        "id": "p1NhFOqkjgZ4"
      },
      "source": [
        "### Get or set subparts of a tensor"
      ]
    },
    {
      "cell_type": "code",
      "execution_count": 52,
      "metadata": {
        "colab": {
          "base_uri": "https://localhost:8080/"
        },
        "id": "_KG0g3wBjgZ4",
        "outputId": "afec6eb1-8a6f-45a9-b02f-814d789ee7ea"
      },
      "outputs": [
        {
          "name": "stdout",
          "output_type": "stream",
          "text": [
            "[[ 0  1  2]\n",
            " [ 3  4  5]\n",
            " [ 6  7  8]\n",
            " [ 9 10 11]]\n",
            "3\n",
            "[6 7 8]\n",
            "(3,)\n",
            "[[ 1  2]\n",
            " [ 4  5]\n",
            " [ 7  8]\n",
            " [10 11]]\n",
            "(4, 2)\n"
          ]
        }
      ],
      "source": [
        "a = np.array (range(12))\n",
        "a = a.reshape(4,3)\n",
        "print(a)\n",
        "\n",
        "# get one value\n",
        "print(a[1,0])   # first index (axis=0) = id of the row (starting at 0)\n",
        "                # 2nd index   (axis=1) = id of the column (starting at 0)\n",
        "\n",
        "# slices do work as in lists\n",
        "# => use \":\" to select a whole row / column etc...\n",
        "\n",
        "# selecting the 3rd row\n",
        "print(a[2, :])\n",
        "\n",
        "# CAUTION: choosing a single value on one of the axis removes this axis altogether\n",
        "# => the shape has 1 axis less\n",
        "# => here we get a vector of shape (3,) and not a matrix of shape (1,3)\n",
        "print(a[2, :].shape)\n",
        "\n",
        "# selecting 2nd and 3rd columns (hence with ids 1 and 2)\n",
        "print(a[:, 1:3])\n",
        "# here the shape still has the same nb of axis\n",
        "print(a[:, 1:3].shape)"
      ]
    },
    {
      "cell_type": "code",
      "execution_count": 53,
      "metadata": {
        "colab": {
          "base_uri": "https://localhost:8080/"
        },
        "id": "YUjPSVnvjgZ4",
        "outputId": "dc510a3d-b617-4f54-fb6c-b45025cf545e"
      },
      "outputs": [
        {
          "name": "stdout",
          "output_type": "stream",
          "text": [
            "[[ 0  1  2]\n",
            " [ 0  4  5]\n",
            " [ 0  7  8]\n",
            " [ 0 10 11]]\n",
            "[[ 0  1  2]\n",
            " [ 1  1  1]\n",
            " [ 0  7  8]\n",
            " [ 0 10 11]]\n",
            "[[ 0  1  2]\n",
            " [ 1  1  1]\n",
            " [-1 -7 -1]\n",
            " [ 0 10 11]]\n"
          ]
        }
      ],
      "source": [
        "a = np.array (range(12)).reshape(4,3)\n",
        "\n",
        "# modification of 1st column\n",
        "a[:, 0] = np.zeros( shape=(4,))\n",
        "print(a)\n",
        "\n",
        "# modification of 2nd row\n",
        "a[1, :] = np.ones( shape=(3,))\n",
        "print(a)\n",
        "\n",
        "# directly assigning the 3rd row\n",
        "a[2, :] = [-1, -7, -1]\n",
        "print(a)\n"
      ]
    },
    {
      "cell_type": "code",
      "execution_count": 54,
      "metadata": {
        "colab": {
          "base_uri": "https://localhost:8080/"
        },
        "id": "hmS44iAZjgZ5",
        "outputId": "53f2f986-fa97-48d2-e1f3-0f33d3e1234c"
      },
      "outputs": [
        {
          "name": "stdout",
          "output_type": "stream",
          "text": [
            "[[[ 0  1]\n",
            "  [ 2  3]\n",
            "  [ 4  5]\n",
            "  [ 6  7]]\n",
            "\n",
            " [[ 8  9]\n",
            "  [10 11]\n",
            "  [12 13]\n",
            "  [14 15]]\n",
            "\n",
            " [[16 17]\n",
            "  [18 19]\n",
            "  [20 21]\n",
            "  [22 23]]]\n",
            "[[0 1]\n",
            " [2 3]\n",
            " [4 5]\n",
            " [6 7]]\n"
          ]
        }
      ],
      "source": [
        "# the same holds for tensors with more than 2 axis\n",
        "t3 = np.array(range(24)).reshape(3,4,2)  ## 3 matrices de size 4 x 2\n",
        "print(t3)\n",
        "\n",
        "print( t3[0,:,:] )"
      ]
    },
    {
      "cell_type": "code",
      "execution_count": 55,
      "metadata": {
        "colab": {
          "base_uri": "https://localhost:8080/"
        },
        "id": "VSRe6swkjgZ6",
        "outputId": "36fa6adc-28f2-47a0-d32e-33ff0d5fa87d"
      },
      "outputs": [
        {
          "name": "stdout",
          "output_type": "stream",
          "text": [
            "[[[ 0  1  2  3]\n",
            "  [ 4  5  6  7]\n",
            "  [ 8  9 10 11]]\n",
            "\n",
            " [[12 13 14 15]\n",
            "  [16 17 18 19]\n",
            "  [20 21 22 23]]]\n",
            "(3, 4)\n",
            "[[ 0  1  2  3]\n",
            " [ 4  5  6  7]\n",
            " [ 8  9 10 11]]\n",
            "(3,)\n",
            "[14 18 22]\n"
          ]
        }
      ],
      "source": [
        "a = np.array (range(24))\n",
        "a = a.reshape(2,3,4)  # a tensor with 3 axis\n",
        "print(a)\n",
        "\n",
        "b = a[0,:,:]\n",
        "print(b.shape)  # 2 axis left\n",
        "print(b)\n",
        "\n",
        "c = a[1,:,2]\n",
        "print(c.shape)  # 1 axis left\n",
        "print(c)"
      ]
    },
    {
      "cell_type": "markdown",
      "metadata": {
        "id": "-LadCCdXjgZ3"
      },
      "source": [
        "### CAUTION: assigning does not copy"
      ]
    },
    {
      "cell_type": "code",
      "execution_count": 56,
      "metadata": {
        "colab": {
          "base_uri": "https://localhost:8080/"
        },
        "id": "Otu5w-isjgZ3",
        "outputId": "e34020c4-2b81-4a4b-9f6d-e9caf540f3e6"
      },
      "outputs": [
        {
          "name": "stdout",
          "output_type": "stream",
          "text": [
            "a [[ 1.  1.  1.  1.]\n",
            " [ 1.  1. 17.  1.]\n",
            " [ 1.  1.  1.  1.]]\n",
            "b [[ 1.  1.  1.  1.]\n",
            " [ 1.  1. 17.  1.]\n",
            " [ 1.  1.  1.  1.]]\n",
            "a [[ 1.  1.  1.  1.]\n",
            " [ 1.  1. 17.  2.]\n",
            " [ 1.  1.  1.  1.]]\n",
            "c [[ 1.  1.  1.  1.]\n",
            " [ 1.  1. 17.  1.]\n",
            " [ 1.  1.  1.  1.]]\n"
          ]
        }
      ],
      "source": [
        "# CAUTION: assigning does not copy\n",
        "a = np.ones(shape=(3,4))\n",
        "b = a\n",
        "a[1,2] =17\n",
        "print(\"a\", a)\n",
        "print(\"b\", b)\n",
        "\n",
        "c=np.copy(a)\n",
        "a[1,3]=2\n",
        "print(\"a\", a)\n",
        "print(\"c\", c)"
      ]
    },
    {
      "cell_type": "markdown",
      "metadata": {
        "id": "oi82ikk-jgZ1"
      },
      "source": [
        "### Transposition"
      ]
    },
    {
      "cell_type": "code",
      "execution_count": 57,
      "metadata": {
        "colab": {
          "base_uri": "https://localhost:8080/"
        },
        "id": "vCQNgA6ZjgZ2",
        "outputId": "b1a489c8-236b-4f7d-a1b3-bfd6768a4df1"
      },
      "outputs": [
        {
          "name": "stdout",
          "output_type": "stream",
          "text": [
            "[[0 1 2 3]\n",
            " [4 5 6 7]]\n",
            "[[0 4]\n",
            " [1 5]\n",
            " [2 6]\n",
            " [3 7]]\n",
            "[[0 4]\n",
            " [1 5]\n",
            " [2 6]\n",
            " [3 7]]\n"
          ]
        }
      ],
      "source": [
        "# sometimes needed to change rows into columns\n",
        "a = np.array (range(8)).reshape(2,4)\n",
        "b = a.transpose()\n",
        "print(a)\n",
        "print(b)\n",
        "\n",
        "# can be done also with .T\n",
        "c = a.T\n",
        "print(c)\n"
      ]
    },
    {
      "cell_type": "markdown",
      "metadata": {
        "id": "JRjdbiCqjgZo"
      },
      "source": [
        "## Vector vs matrix with one row or one column"
      ]
    },
    {
      "cell_type": "code",
      "execution_count": 58,
      "metadata": {
        "colab": {
          "base_uri": "https://localhost:8080/"
        },
        "id": "r9s1cyk7jgZp",
        "outputId": "afc03f6f-9cc1-492e-f74d-794346bae458"
      },
      "outputs": [
        {
          "name": "stdout",
          "output_type": "stream",
          "text": [
            "[5. 6. 7.]\n",
            "<class 'numpy.ndarray'>\n",
            "(3,)\n"
          ]
        }
      ],
      "source": [
        "v1 = np.array ([5,6,7], float)  # a real-valued vector of size 3\n",
        "                                # equivalent to a list, but all elements must have the same type\n",
        "print(v1)\n",
        "print (type(v1))\n",
        "print (v1.shape) # a tuple of length one for the shape of one-dimensional ndarrays"
      ]
    },
    {
      "cell_type": "code",
      "execution_count": 59,
      "metadata": {
        "colab": {
          "base_uri": "https://localhost:8080/"
        },
        "id": "D4nm_XoljgZq",
        "outputId": "3eb27b06-5757-4a2c-f3a4-609bd40240c6"
      },
      "outputs": [
        {
          "name": "stdout",
          "output_type": "stream",
          "text": [
            "[0. 0. 0. 0.]\n",
            "(4,)\n"
          ]
        }
      ],
      "source": [
        "v2 = np.zeros( (4,) )\n",
        "print(v2)\n",
        "print(v2.shape)"
      ]
    },
    {
      "cell_type": "code",
      "execution_count": 60,
      "metadata": {
        "colab": {
          "base_uri": "https://localhost:8080/"
        },
        "id": "ieM6xwFrjgZs",
        "outputId": "fb2d3acb-d6ba-4679-d4c3-bd00074160a8"
      },
      "outputs": [
        {
          "name": "stdout",
          "output_type": "stream",
          "text": [
            "[1. 1. 1.]\n",
            "[[1.]\n",
            " [1.]\n",
            " [1.]]\n",
            "[[1. 1. 1.]]\n"
          ]
        }
      ],
      "source": [
        "# caution: vector of shape (n,) versus matrix with shape (n,1) or (1,n)\n",
        "vect = np.ones((3,))\n",
        "mat1 = np.ones((3,1))\n",
        "mat2 = np.ones((1,3))\n",
        "\n",
        "print(vect)\n",
        "print(mat1)\n",
        "print(mat2)"
      ]
    },
    {
      "cell_type": "markdown",
      "metadata": {
        "id": "TCPiWY8FjgZ6"
      },
      "source": [
        "## Sorting with np.sort et np.argsort"
      ]
    },
    {
      "cell_type": "code",
      "execution_count": 61,
      "metadata": {
        "colab": {
          "base_uri": "https://localhost:8080/"
        },
        "id": "akIuBQYzjgZ6",
        "outputId": "3f987875-66f0-40fc-e722-52ab82731c61"
      },
      "outputs": [
        {
          "name": "stdout",
          "output_type": "stream",
          "text": [
            "[[ 3 24 17]\n",
            " [ 8  2 16]]\n",
            "[[ 3 17 24]\n",
            " [ 2  8 16]]\n",
            "[[ 3  2 16]\n",
            " [ 8 24 17]]\n"
          ]
        }
      ],
      "source": [
        "a = np.array( [ 3 , 24, 17, 8, 2 ,16]).reshape(2,3)\n",
        "\n",
        "# sorting, with varying columns (axis=1)\n",
        "#          => corresponds to sorting each row\n",
        "b = np.sort(a, axis=1)\n",
        "# sorting, with varying rows (axis=0)\n",
        "#          => corresponds to sorting each column\n",
        "c = np.sort(a, axis=0)\n",
        "print(a)\n",
        "print(b)\n",
        "print(c)"
      ]
    },
    {
      "cell_type": "code",
      "execution_count": 62,
      "metadata": {
        "colab": {
          "base_uri": "https://localhost:8080/"
        },
        "id": "j0TxBjZ7jgZ7",
        "outputId": "9231fddb-8804-4558-8bdb-ebd94f67a5f5"
      },
      "outputs": [
        {
          "name": "stdout",
          "output_type": "stream",
          "text": [
            "[[ 3 24 17]\n",
            " [ 8  2 16]]\n",
            "b [[0 2 1]\n",
            " [1 0 2]]\n",
            "sorted first row: [3, 17, 24]\n",
            "[[0 1 1]\n",
            " [1 0 0]]\n"
          ]
        }
      ],
      "source": [
        "# we may need to sort the ids according to the values\n",
        "# => argsort provides the ids sorted according to the values\n",
        "b = np.argsort(a, axis=1)\n",
        "print(a)\n",
        "print(\"b\", b)\n",
        "# the sorted ids give access to the sorted values if needed\n",
        "print(\"sorted first row:\", [ a[0,i] for i in b[0]])\n",
        "\n",
        "c = np.argsort(a, axis=0)\n",
        "# QUESTION: what will be the value of c?\n",
        "# C = [ 0, 1, 1]\n",
        "#    [ 1, 0, 0]\n",
        "print(c)"
      ]
    },
    {
      "cell_type": "code",
      "execution_count": 63,
      "metadata": {
        "colab": {
          "base_uri": "https://localhost:8080/"
        },
        "id": "WKAWEIVqAUme",
        "outputId": "5633310a-40db-42fd-d182-85b906e90c41"
      },
      "outputs": [
        {
          "name": "stdout",
          "output_type": "stream",
          "text": [
            "[[1 2 0]\n",
            " [2 0 1]]\n"
          ]
        }
      ],
      "source": [
        "# to get descending order, we can just sort the opposite tensor (-a)\n",
        "d = np.argsort(-a, axis=1)\n",
        "print(d)"
      ]
    },
    {
      "cell_type": "markdown",
      "metadata": {
        "id": "W6dpcBu_jgZ7"
      },
      "source": [
        "## Applying a function to each element of a tensor"
      ]
    },
    {
      "cell_type": "markdown",
      "metadata": {
        "id": "PXLMyGbsjgZ8"
      },
      "source": [
        "### Operations between a tensor and a scalar"
      ]
    },
    {
      "cell_type": "code",
      "execution_count": 64,
      "metadata": {
        "colab": {
          "base_uri": "https://localhost:8080/"
        },
        "id": "otSeuo0tjgZ8",
        "outputId": "1ff9c783-1f26-4242-e9e6-56e26f42b71b"
      },
      "outputs": [
        {
          "name": "stdout",
          "output_type": "stream",
          "text": [
            "[[0 1 2]\n",
            " [3 4 5]]\n",
            "[[10 11 12]\n",
            " [13 14 15]]\n",
            "[[ 0 10 20]\n",
            " [30 40 50]]\n",
            "[[0.  0.1 0.2]\n",
            " [0.3 0.4 0.5]]\n",
            "[[ 0  1  4]\n",
            " [ 9 16 25]]\n"
          ]
        }
      ],
      "source": [
        "# multiplication by a scalar, addition of a scalar etc...\n",
        "a = np.array(range(6)).reshape(2,3)\n",
        "\n",
        "print(a)\n",
        "\n",
        "print(a + 10)\n",
        "print(a * 10)\n",
        "print(a / 10.0)\n",
        "print(a**2)"
      ]
    },
    {
      "cell_type": "markdown",
      "metadata": {
        "id": "xg9Q24ecjgZ9"
      },
      "source": [
        "### Applying a mathematical function to each element\n",
        "\n",
        "See list of numpy mathematical functions\n",
        "https://numpy.org/doc/stable/reference/routines.math.html"
      ]
    },
    {
      "cell_type": "code",
      "execution_count": 65,
      "metadata": {
        "colab": {
          "base_uri": "https://localhost:8080/"
        },
        "id": "2dd-NcLCjgZ9",
        "outputId": "b2efdd9e-c30e-4a25-8e52-ddbab8e9fe00"
      },
      "outputs": [
        {
          "name": "stdout",
          "output_type": "stream",
          "text": [
            "[[1 2 3 4]\n",
            " [5 6 7 8]]\n",
            "[[0.         1.         1.5849625  2.        ]\n",
            " [2.32192809 2.5849625  2.80735492 3.        ]]\n"
          ]
        }
      ],
      "source": [
        "a = np.array(range(8)).reshape(2,4) + 1\n",
        "print(a)\n",
        "print(np.log2(a)) # log base 2 applied to each cell"
      ]
    },
    {
      "cell_type": "code",
      "execution_count": 66,
      "metadata": {
        "colab": {
          "base_uri": "https://localhost:8080/"
        },
        "id": "7cJB3KKrpfoT",
        "outputId": "8693a28f-b0cc-4385-ae51-47e762adec17"
      },
      "outputs": [
        {
          "name": "stdout",
          "output_type": "stream",
          "text": [
            "[[0.83981989 0.57197041]\n",
            " [0.18396065 0.62771906]]\n"
          ]
        }
      ],
      "source": [
        "m = np.random.rand(2,2)\n",
        "print(m)\n"
      ]
    },
    {
      "cell_type": "markdown",
      "metadata": {
        "id": "Hffy0cMkINdi"
      },
      "source": [
        "### TODO: comment what is done with:\n"
      ]
    },
    {
      "cell_type": "code",
      "execution_count": 67,
      "metadata": {
        "id": "N6ebcx1aILt9"
      },
      "outputs": [
        {
          "name": "stdout",
          "output_type": "stream",
          "text": [
            "[[0.84 0.57]\n",
            " [0.18 0.63]]\n"
          ]
        }
      ],
      "source": [
        "print(np.round(m, 2))\n",
        "# [0.94 0.27]\n",
        "# [0.40 0.87]"
      ]
    },
    {
      "cell_type": "markdown",
      "metadata": {
        "id": "4wSIRrrkjgZ-"
      },
      "source": [
        "### Applying a user-defined method to each element"
      ]
    },
    {
      "cell_type": "code",
      "execution_count": 68,
      "metadata": {
        "colab": {
          "base_uri": "https://localhost:8080/"
        },
        "id": "UmdMwzYAjgZ_",
        "outputId": "095613e2-658d-48bd-8bf2-e1ab281b9252"
      },
      "outputs": [
        {
          "name": "stdout",
          "output_type": "stream",
          "text": [
            "[[0 1 2]\n",
            " [3 4 5]]\n",
            "[[ 0  2  7]\n",
            " [10 13 16]]\n"
          ]
        }
      ],
      "source": [
        "# np.vectorize defines a \"vectorized\" version of any function my_f\n",
        "# namely a version that will apply my_f to each cell\n",
        "\n",
        "def my_f(x):\n",
        "    if (x<2):\n",
        "        return 2 * x\n",
        "    else:\n",
        "        return 3 * x+1\n",
        "\n",
        "my_f_vec = np.vectorize(my_f)\n",
        "\n",
        "a = np.array(range(6)).reshape(2,3)\n",
        "print(a)\n",
        "print(my_f_vec(a))\n",
        "\n",
        "# QUESTION: what will contain a * f_vec(a) ?\n",
        "# Problem in the question\n",
        "\n"
      ]
    },
    {
      "cell_type": "markdown",
      "metadata": {
        "id": "clLy0IXDjgZ_"
      },
      "source": [
        "### Applying a function along one or several axes : e.g. get the sum for each row of a matrix\n",
        "\n",
        "`np.sum`is quite useful.\n",
        "\n",
        "The `axis` argument serves to define which elements to sum.\n"
      ]
    },
    {
      "cell_type": "code",
      "execution_count": 69,
      "metadata": {
        "colab": {
          "base_uri": "https://localhost:8080/"
        },
        "id": "BCHcc_XOjgZ_",
        "outputId": "0765e9b5-b695-453a-978e-dc9089744ae2"
      },
      "outputs": [
        {
          "name": "stdout",
          "output_type": "stream",
          "text": [
            "[[0 1 2]\n",
            " [3 4 5]]\n",
            "15\n",
            "[3 5 7]\n",
            "[ 3 12]\n",
            "[ 3 12]\n"
          ]
        }
      ],
      "source": [
        "a = np.array(range(6)).reshape(2,3)\n",
        "print(a)\n",
        "\n",
        "print(np.sum(a))          # by default: sum of all cells (axis=None)\n",
        "\n",
        "# the axis argument serves to define which elements to sum\n",
        "# more precisely which axis or tuple of axes varies to sum elements\n",
        "# it is easier to think of which axis *does not vary*\n",
        "print(np.sum(a, axis=0))  # sum with varying rows => keep separated sums for each column\n",
        "print(np.sum(a, axis=1))  # sum with varying columns => sum of each row\n",
        "print(np.sum(a, axis=-1)) # axis=-1 means the last axis, here =1\n",
        "\n"
      ]
    },
    {
      "cell_type": "code",
      "execution_count": 70,
      "metadata": {
        "colab": {
          "base_uri": "https://localhost:8080/"
        },
        "id": "3WY_oLBdoT1N",
        "outputId": "bf9769e8-0ed0-4df8-c1e6-6d0c9b53bf77"
      },
      "outputs": [
        {
          "name": "stdout",
          "output_type": "stream",
          "text": [
            "[[[ 0  1]\n",
            "  [ 2  3]\n",
            "  [ 4  5]]\n",
            "\n",
            " [[ 6  7]\n",
            "  [ 8  9]\n",
            "  [10 11]]]\n",
            "[[ 6  9]\n",
            " [24 27]]\n",
            "[[ 6  8]\n",
            " [10 12]\n",
            " [14 16]]\n",
            "[15 51]\n"
          ]
        }
      ],
      "source": [
        "a = np.array(range(12)).reshape(2,3,2)\n",
        "\n",
        "print(a)\n",
        "print(np.sum(a,axis=1))\n",
        "print(np.sum(a,axis=0))\n",
        "\n",
        "# axis can also be a tuple of axes\n",
        "# e.g. sum with varying axes 1 and 2\n",
        "#      only axis 0 does not vary : keep separate sums for each of the 2 2x3 matrices\n",
        "print(np.sum(a, axis=(1,2)))"
      ]
    },
    {
      "cell_type": "markdown",
      "metadata": {
        "id": "arGAisobIXNs"
      },
      "source": [
        "### TODO: use np.prod to obtain for each column, the product of the elements in the column\n"
      ]
    },
    {
      "cell_type": "code",
      "execution_count": 71,
      "metadata": {
        "id": "wtodQElEoB93"
      },
      "outputs": [
        {
          "name": "stdout",
          "output_type": "stream",
          "text": [
            "[[0 1 2]\n",
            " [3 4 5]]\n",
            "[ 0  4 10]\n"
          ]
        }
      ],
      "source": [
        "a = np.array(range(6)).reshape(2,3)\n",
        "print(a)\n",
        "print(np.prod(a, axis=0))\n"
      ]
    },
    {
      "cell_type": "markdown",
      "metadata": {
        "id": "X7fr228WjgaC"
      },
      "source": [
        "## Element-wise operations between two tensors of same shape"
      ]
    },
    {
      "cell_type": "code",
      "execution_count": 72,
      "metadata": {
        "colab": {
          "base_uri": "https://localhost:8080/"
        },
        "id": "a2erIV5mjgaC",
        "outputId": "2e4a581d-8851-4ba9-89d8-f49e32838a8c"
      },
      "outputs": [
        {
          "name": "stdout",
          "output_type": "stream",
          "text": [
            "[[ 0  1  2  3]\n",
            " [ 4  5  6  7]\n",
            " [ 8  9 10 11]]\n",
            "[[ 2  3  4  5]\n",
            " [ 6  7  8  9]\n",
            " [10 11 12 13]]\n",
            "[[  0   3   8  15]\n",
            " [ 24  35  48  63]\n",
            " [ 80  99 120 143]]\n",
            "[[0.         0.33333333 0.5        0.6       ]\n",
            " [0.66666667 0.71428571 0.75       0.77777778]\n",
            " [0.8        0.81818182 0.83333333 0.84615385]]\n"
          ]
        }
      ],
      "source": [
        "# for two tensors of same shape, using arithmetic operators will apply\n",
        "#the operators to each pair of elements at same coordinates in the tensors\n",
        "\n",
        "a = np.array(range(12)).reshape((3,4))\n",
        "print(a)\n",
        "\n",
        "b = np.array(range(12)).reshape((3,4)) + 2\n",
        "print(b)\n",
        "\n",
        "print(a * b) # => NB: corresponds to the Hadamard product\n",
        "\n",
        "print (a / b)\n",
        "\n"
      ]
    },
    {
      "cell_type": "code",
      "execution_count": 73,
      "metadata": {
        "colab": {
          "base_uri": "https://localhost:8080/"
        },
        "id": "0ZMdOj_TjgaD",
        "outputId": "f6067e66-2df2-4ce1-c6ed-c804137321aa"
      },
      "outputs": [
        {
          "name": "stdout",
          "output_type": "stream",
          "text": [
            "[[ 0  1  2  3]\n",
            " [ 4  5  6  7]\n",
            " [ 8  9 10 11]]\n",
            "[[  0   1   4   9]\n",
            " [ 16  25  36  49]\n",
            " [ 64  81 100 121]]\n",
            "[ 14 126 366]\n",
            "[[ 0.  1.  2.  3.]\n",
            " [ 4.  5.  6.  7.]\n",
            " [ 8.  9. 10. 11.]]\n"
          ]
        }
      ],
      "source": [
        "a = np.array(range(12)).reshape(3,4)\n",
        "print(a)\n",
        "print(a*a)\n",
        "print(np.sum(a*a, axis=1))\n",
        "print(np.sqrt(a**2))\n"
      ]
    },
    {
      "cell_type": "markdown",
      "metadata": {
        "id": "eFEU_9qK0l9j"
      },
      "source": [
        "## dot product (for vectors) and matrix product"
      ]
    },
    {
      "cell_type": "markdown",
      "metadata": {
        "id": "uj24itck0-Xg"
      },
      "source": [
        "### dot product of two vectors : np.dot\n",
        "\n",
        "NB: np.dot has different behavior depending on the input shapes\n",
        "see https://numpy.org/doc/stable/reference/generated/numpy.dot.html"
      ]
    },
    {
      "cell_type": "code",
      "execution_count": 74,
      "metadata": {
        "colab": {
          "base_uri": "https://localhost:8080/"
        },
        "id": "WNZYpMiV1lEH",
        "outputId": "7e898ecf-a910-4cd3-9577-11ab18b4781c"
      },
      "outputs": [
        {
          "data": {
            "text/plain": [
              "-11"
            ]
          },
          "execution_count": 74,
          "metadata": {},
          "output_type": "execute_result"
        }
      ],
      "source": [
        "v1 = np.array([1, -2, 2])\n",
        "v2 = np.array([-3, 6, 2])\n",
        "\n",
        "np.dot(v1, v2)"
      ]
    },
    {
      "cell_type": "markdown",
      "metadata": {
        "id": "-6EbduEDjgaD"
      },
      "source": [
        "### Matrix product : np.matmul and the @ operator"
      ]
    },
    {
      "cell_type": "markdown",
      "metadata": {
        "id": "q26AsbtxjgaD"
      },
      "source": [
        "**Essential**:\n",
        "\n",
        "C = AB\n",
        "\n",
        "**C\\[i,j\\] equals the dot product between i-th row of A and j-th column of B**\n",
        "\n",
        "Hence AB is only defined when number of columns of A = number of lines of B\n",
        "\n",
        "In numpy, use np.matmul or the infix @ operator\n",
        "\n",
        "Rem: np.dot also works on matrices but not recommended"
      ]
    },
    {
      "cell_type": "code",
      "execution_count": 75,
      "metadata": {
        "colab": {
          "base_uri": "https://localhost:8080/"
        },
        "id": "RKP-trqsjgaE",
        "outputId": "766c4e50-aec0-4e85-feda-f133aa169197"
      },
      "outputs": [
        {
          "name": "stdout",
          "output_type": "stream",
          "text": [
            "[[0 1 2]\n",
            " [3 4 5]]\n",
            "[[ 0  1  2  3]\n",
            " [ 4  5  6  7]\n",
            " [ 8  9 10 11]]\n",
            "[[20 23 26 29]\n",
            " [56 68 80 92]]\n",
            "[[20 23 26 29]\n",
            " [56 68 80 92]]\n"
          ]
        }
      ],
      "source": [
        "a = np.array(range(6)).reshape(2,3)\n",
        "b = np.array(range(12)).reshape(3,4)\n",
        "\n",
        "print(a)\n",
        "print(b)\n",
        "\n",
        "print(a @ b)\n",
        "\n",
        "print(np.matmul(a,b))\n",
        "\n",
        "# rem:\n",
        "# A @ B @ C\n",
        "# is equivalent to\n",
        "# np.matmul(np.matmul(A,B), C)\n"
      ]
    },
    {
      "cell_type": "markdown",
      "metadata": {
        "id": "n_dIro3SIlnD"
      },
      "source": [
        "### TODO: comment the operations below"
      ]
    },
    {
      "cell_type": "code",
      "execution_count": 76,
      "metadata": {
        "colab": {
          "base_uri": "https://localhost:8080/"
        },
        "id": "0aC9FeNmjgaF",
        "outputId": "fc491888-60f1-4fb5-cbe7-f900b44d6f56"
      },
      "outputs": [
        {
          "name": "stdout",
          "output_type": "stream",
          "text": [
            "[[0 1 2]\n",
            " [3 4 5]]\n",
            "[[ 0  1  2]\n",
            " [ 3  4  5]\n",
            " [ 6  7  8]\n",
            " [ 9 10 11]]\n",
            "[[  5  14  23  32]\n",
            " [ 14  50  86 122]]\n"
          ]
        }
      ],
      "source": [
        "\n",
        "a = np.array(range(6)).reshape(2,3)\n",
        "b = np.array(range(12)).reshape(4,3)\n",
        "c = np.matmul(a, b.transpose()) # We transpose b to have the same number of columns\n",
        "print(a)\n",
        "print(b)\n",
        "print(c) # 2x4 matrix"
      ]
    },
    {
      "cell_type": "markdown",
      "metadata": {
        "id": "XAO27dP9jgaF"
      },
      "source": [
        "## Product of vector and matrix"
      ]
    },
    {
      "cell_type": "code",
      "execution_count": 77,
      "metadata": {
        "colab": {
          "base_uri": "https://localhost:8080/"
        },
        "id": "uOWIo9ZGjgaG",
        "outputId": "3c36ef3c-0309-45c2-b5ed-a629fec54da5"
      },
      "outputs": [
        {
          "name": "stdout",
          "output_type": "stream",
          "text": [
            "[[0 1]\n",
            " [2 3]\n",
            " [4 5]]\n",
            "[10 11 12]\n",
            "np.matmul(v,M): [ 70 103]\n",
            "shape: (2,)\n"
          ]
        }
      ],
      "source": [
        "# The np.matmul method does implicit reshaping\n",
        "# when one of the arguments is uni-dimensional\n",
        "\n",
        "# if x is a vector of size n (array of shape (n,))\n",
        "# then when x is first argument of np.matmul\n",
        "# => reshape as a line vector (1,n)\n",
        "M = np.arange(6).reshape(3,2)\n",
        "v = np.arange(3) + 10\n",
        "print(M)\n",
        "print(v)\n",
        "d = np.matmul(v,M)\n",
        "print(\"np.matmul(v,M):\", d)\n",
        "print(\"shape:\", d.shape)\n"
      ]
    },
    {
      "cell_type": "markdown",
      "metadata": {
        "id": "lOA5S-E8Hy1i"
      },
      "source": [
        "### TODO: check that this line produces an error, explain why"
      ]
    },
    {
      "cell_type": "code",
      "execution_count": 78,
      "metadata": {
        "id": "TufaY-ItH8_e"
      },
      "outputs": [],
      "source": [
        "#print(np.matmul(M,v)) \n",
        "# M is a matrix (3,2) and v is a line vector (1, 3) => impossible"
      ]
    },
    {
      "cell_type": "code",
      "execution_count": 79,
      "metadata": {
        "colab": {
          "base_uri": "https://localhost:8080/"
        },
        "id": "MYXj_DqOjgaG",
        "outputId": "ef1f70e4-fcb4-4ca0-9646-45a1296d5033"
      },
      "outputs": [
        {
          "name": "stdout",
          "output_type": "stream",
          "text": [
            "[[0 2 4]\n",
            " [1 3 5]]\n",
            "[10 11 12]\n",
            "[ 70 103]\n",
            "[ 70 103]\n"
          ]
        }
      ],
      "source": [
        "print(M.T)\n",
        "print(v)\n",
        "print (np.matmul(M.T,v))\n",
        "# same as:\n",
        "print (M.T @ v) # The vector can be considered as a column vector (3,1)"
      ]
    },
    {
      "cell_type": "code",
      "execution_count": 80,
      "metadata": {
        "colab": {
          "base_uri": "https://localhost:8080/"
        },
        "id": "9HSRnFxgjgaH",
        "outputId": "038f8e05-fec5-48f8-babe-bb83f21c598a"
      },
      "outputs": [
        {
          "name": "stdout",
          "output_type": "stream",
          "text": [
            "[[0 1 2]\n",
            " [3 4 5]]\n",
            "[10 11 12]\n",
            "M @ v result using explicit reshaping of v as column vector :\n",
            "[[ 35]\n",
            " [134]]\n",
            "(2, 1)\n",
            "M @ v result with IMPLICIT reshaping:\n",
            "[ 35 134]\n",
            "is equivalent to v @ M.T\n",
            "[ 35 134]\n"
          ]
        }
      ],
      "source": [
        "# when x is 2nd argument of @\n",
        "M = np.arange(6).reshape(2,3)\n",
        "v = np.arange(3) + 10\n",
        "print(M)\n",
        "print(v)\n",
        "\n",
        "print(\"M @ v result using explicit reshaping of v as column vector :\")\n",
        "r = M @ v.reshape(3,1)\n",
        "print(r)\n",
        "print(r.shape)\n",
        "\n",
        "print(\"M @ v result with IMPLICIT reshaping:\")\n",
        "print(M @ v)\n",
        "print(\"is equivalent to v @ M.T\")\n",
        "print(v @ M.T)\n",
        "\n"
      ]
    },
    {
      "cell_type": "markdown",
      "metadata": {
        "id": "k3WVno6ijgaA"
      },
      "source": [
        "## Other operations between a matrix and a vector : implicit repetition of the vector"
      ]
    },
    {
      "cell_type": "code",
      "execution_count": 81,
      "metadata": {
        "colab": {
          "base_uri": "https://localhost:8080/"
        },
        "id": "qGX2CQtLjgaA",
        "outputId": "66d51627-78e6-4792-d141-67712c8af93e"
      },
      "outputs": [
        {
          "name": "stdout",
          "output_type": "stream",
          "text": [
            "[[ 0  1  2  3]\n",
            " [ 4  5  6  7]\n",
            " [ 8  9 10 11]]\n",
            "[[  0  -1  -2  -3]\n",
            " [ -4  -5  -6  -7]\n",
            " [ -8  -9 -10 -11]]\n",
            "vector v: [2 3 4 5] , with shape (4,)\n",
            "m + v: \n",
            " [[ 2  4  6  8]\n",
            " [ 6  8 10 12]\n",
            " [10 12 14 16]]\n",
            "Operation between matrix m with shape (r,c) and vector v with shape (c,) :\n",
            "Everything happens as if the vector were repeated on n rows\n"
          ]
        }
      ],
      "source": [
        "# matrix and vector (=> the vector (n,) is interpreted as a ROW (1,n))\n",
        "m = np.array(range(12)).reshape((3,4))\n",
        "print(m)\n",
        "print(-m)\n",
        "\n",
        "v = np.array(range(4)) + 2\n",
        "print( \"vector v:\", v, \", with shape\", v.shape )\n",
        "print( \"m + v: \\n\", m + v )\n",
        "\n",
        "print(\"Operation between matrix m with shape (r,c) and vector v with shape (c,) :\")\n",
        "print(\"Everything happens as if the vector were repeated on n rows\")\n",
        "\n"
      ]
    },
    {
      "cell_type": "markdown",
      "metadata": {
        "id": "kzfaJw1aMDWf"
      },
      "source": [
        "Other operations like - / * work in the same way\n",
        "\n",
        "### TODO: use paper and pencil to redo the following operation\n"
      ]
    },
    {
      "cell_type": "code",
      "execution_count": 82,
      "metadata": {
        "colab": {
          "base_uri": "https://localhost:8080/"
        },
        "id": "WYx4mDjqMBZ3",
        "outputId": "bb67128a-aded-4c74-e78a-10c6ad9cb425"
      },
      "outputs": [
        {
          "name": "stdout",
          "output_type": "stream",
          "text": [
            "- m * v: \n",
            " [[  0  -3  -8 -15]\n",
            " [ -8 -15 -24 -35]\n",
            " [-16 -27 -40 -55]]\n",
            "(-2 * m) - v: \n",
            " [[ 0.         -0.66666667 -1.         -1.2       ]\n",
            " [-4.         -3.33333333 -3.         -2.8       ]\n",
            " [-8.         -6.         -5.         -4.4       ]]\n"
          ]
        }
      ],
      "source": [
        "print( \"- m * v: \\n\",  -m * v )\n",
        "\n",
        "print( \"(-2 * m) - v: \\n\", (-2 * m) / v )\n"
      ]
    },
    {
      "cell_type": "code",
      "execution_count": 83,
      "metadata": {
        "colab": {
          "base_uri": "https://localhost:8080/"
        },
        "id": "RZ1fFZiljgaB",
        "outputId": "44cdd29c-3063-4750-b76a-9958e0a4ad5d"
      },
      "outputs": [
        {
          "name": "stdout",
          "output_type": "stream",
          "text": [
            "[[ 0  1  2  3]\n",
            " [ 4  5  6  7]\n",
            " [ 8  9 10 11]]\n",
            "v:  [0 1 2]\n",
            "v.shape (3,)\n",
            "shape when using asmatrix method: (1, 3)\n",
            "v as a column vector (a matrix with 3 rows and one column):\n",
            " [[0]\n",
            " [1]\n",
            " [2]]\n",
            "Operation between a matrix (3,4) and a column matrix c (3,1) :\n",
            "Everything happens as if the column in v were repeated as 4 identical columns\n",
            "M * c =\n",
            "[[ 0  0  0  0]\n",
            " [ 4  5  6  7]\n",
            " [16 18 20 22]]\n",
            "M + c =\n",
            "[[ 0  1  2  3]\n",
            " [ 5  6  7  8]\n",
            " [10 11 12 13]]\n"
          ]
        }
      ],
      "source": [
        "# to do an operation between a matrix and a vector used as a column\n",
        "# you need to convert the vector as a real matrix with a single column\n",
        "M = np.array(range(12)).reshape((3,4))\n",
        "print(M)\n",
        "v = np.array(range(3)).reshape((3,))\n",
        "\n",
        "print(\"v: \", v)\n",
        "print(\"v.shape\", v.shape)\n",
        "print(\"shape when using asmatrix method:\", np.asmatrix(v).shape)\n",
        "\n",
        "# this gives an error, why? they removed this error ? Bc they consider v as a column vector\n",
        "#print(M * v)\n",
        "\n",
        "# use reshape to see v as a column vector\n",
        "c = v.reshape(3,1)\n",
        "print(\"v as a column vector (a matrix with 3 rows and one column):\\n\", c)\n",
        "print(\"Operation between a matrix (3,4) and a column matrix c (3,1) :\")\n",
        "print(\"Everything happens as if the column in v were repeated as 4 identical columns\")\n",
        "print(\"M * c =\")\n",
        "print(M * c)\n",
        "\n",
        "print(\"M + c =\")\n",
        "print(M + c)"
      ]
    },
    {
      "cell_type": "markdown",
      "metadata": {
        "id": "pyYZyKpxEf2R"
      },
      "source": [
        "# Numpy exercise : batch computation of distances and similarities\n",
        "\n",
        "We take again matrices $A = \\begin{pmatrix}\n",
        " 1 & -2 & 2\\\\\n",
        " -3 & 4 & 0\\\\\n",
        " 4 & 2 & 4\\\\\n",
        " -2 & -2 & 1\n",
        " \\end{pmatrix}$ and $B = \\begin{pmatrix}\n",
        " -3 & 6 & 2\\\\\n",
        "  0 & 3 & -4\\\\\n",
        " \\end{pmatrix}$.\n",
        "\n"
      ]
    },
    {
      "cell_type": "markdown",
      "metadata": {
        "id": "KQn63aQNjeZ3"
      },
      "source": [
        "## TODO1:\n",
        "Use numpy methods to compute the cosine similarity for each row vector in A with each row vector in B, **without using any loop over rows or columns**, which will be much more efficient.\n",
        "\n",
        "**Indications**: remember that cos(u, v) = u'.v', with u' being the normalized version of u (namely u divided by its norm). So\n",
        "- define A and B as above\n",
        "- start by computing the norms of each row vector in A and B (square and sum!)\n",
        "- divide each row vector in A and B by its norm\n",
        "- and then use matrix multiplication to compute the required dot products\n",
        "\n"
      ]
    },
    {
      "cell_type": "code",
      "execution_count": 84,
      "metadata": {},
      "outputs": [
        {
          "data": {
            "text/plain": [
              "-0.5238095238095238"
            ]
          },
          "execution_count": 84,
          "metadata": {},
          "output_type": "execute_result"
        }
      ],
      "source": [
        "v1 = np.array([1, -2, 2])\n",
        "v2 = np.array([-3, 6, 2])\n",
        "cosine_similarity = np.dot(v1, v2) / (np.linalg.norm(v1) * np.linalg.norm(v2))\n",
        "cosine_similarity"
      ]
    },
    {
      "cell_type": "code",
      "execution_count": 85,
      "metadata": {
        "id": "ne4HABIjlnzw"
      },
      "outputs": [
        {
          "name": "stdout",
          "output_type": "stream",
          "text": [
            "A_divided: [[ 0.33333333 -0.66666667  0.66666667]\n",
            " [-0.6         0.8         0.        ]\n",
            " [ 0.66666667  0.33333333  0.66666667]\n",
            " [-0.66666667 -0.66666667  0.33333333]]\n",
            "B_divided: [[-0.42857143  0.85714286  0.28571429]\n",
            " [ 0.          0.6        -0.8       ]]\n"
          ]
        },
        {
          "data": {
            "text/plain": [
              "array([[-0.52380952, -0.93333333],\n",
              "       [ 0.94285714,  0.48      ],\n",
              "       [ 0.19047619, -0.33333333],\n",
              "       [-0.19047619, -0.66666667]])"
            ]
          },
          "execution_count": 85,
          "metadata": {},
          "output_type": "execute_result"
        }
      ],
      "source": [
        "A = np.array([[1, -2, 2], [-3, 4, 0], [4, 2, 4], [-2, -2, 1]])\n",
        "B = np.array([[-3, 6, 2], [0, 3, -4]])\n",
        "\n",
        "A_square_sum = np.sum(A ** 2, axis=1)\n",
        "# Racine carrée de la somme des carrés des éléments de chaque ligne\n",
        "A_square_sum_sqrt = np.sqrt(A_square_sum)\n",
        "A_square_sum_sqrt = A_square_sum_sqrt.reshape((4, 1))\n",
        "\n",
        "B_square_sum = np.sum(B ** 2, axis=1)\n",
        "B_square_sum_sqrt = np.sqrt(B_square_sum)\n",
        "B_square_sum_sqrt = B_square_sum_sqrt.reshape((2, 1))\n",
        "\n",
        "A_divided = A / A_square_sum_sqrt\n",
        "print(\"A_divided:\", A_divided)\n",
        "B_divided = B / B_square_sum_sqrt\n",
        "print(\"B_divided:\", B_divided)\n",
        "\n",
        "C = np.matmul(A_divided, B_divided.T)\n",
        "C"
      ]
    },
    {
      "cell_type": "markdown",
      "metadata": {
        "id": "Hsd1nH1MjgLq"
      },
      "source": [
        "## Utility for K-NN\n",
        "This efficient computation will be useful to implement the K-NN algorithm *in a very efficient way*:\n",
        "- if A is for 4 vectors for which we know the class.\n",
        "- and B is for 2 vectors to classify using K-NN\n",
        "Then for each vector in B, we will need to compute the distance (or cosine similarity) with each vector in A.\n",
        "\n"
      ]
    },
    {
      "cell_type": "markdown",
      "metadata": {
        "id": "YgmCUu1qjkSw"
      },
      "source": [
        "## TODO2:\n",
        "Do the same for Euclidian distance instead of cosine.\n",
        "\n",
        "**Indications**: use the following reformulation of distances:\n",
        "\n",
        "$ dist(a,b) = \\lVert a - b \\rVert = \\sqrt{\\sum_{i=1}^d (a_i - b_i)^2}$\n",
        "$= \\sqrt{\\sum_{i=1}^d (a_i^2 + b_i^2 - 2 a_i b_i)}$\n",
        "$= \\sqrt{\\lVert a \\rVert^2 + \\lVert b \\rVert^2 - 2 a \\cdot b}$"
      ]
    },
    {
      "cell_type": "code",
      "execution_count": 90,
      "metadata": {
        "id": "KxWDZ7EwlpEf"
      },
      "outputs": [
        {
          "name": "stdout",
          "output_type": "stream",
          "text": [
            "[[ 9]\n",
            " [25]\n",
            " [36]\n",
            " [ 9]]\n",
            "[[49]\n",
            " [25]]\n",
            "[[-22 -28]\n",
            " [ 66  24]\n",
            " [ 16 -20]\n",
            " [ -8 -20]]\n"
          ]
        },
        {
          "data": {
            "text/plain": [
              "array([[8.94427191, 7.87400787],\n",
              "       [2.82842712, 5.09901951],\n",
              "       [8.30662386, 9.        ],\n",
              "       [8.1240384 , 7.34846923]])"
            ]
          },
          "execution_count": 90,
          "metadata": {},
          "output_type": "execute_result"
        }
      ],
      "source": [
        "A_Norm_square = np.sum(A ** 2, axis=1)\n",
        "A_Norm = A_Norm_square.reshape((4, 1))\n",
        "B_Norm_square = np.sum(B ** 2, axis=1)\n",
        "B_Norm = B_Norm_square.reshape((2, 1))\n",
        "print(A_Norm)\n",
        "print(B_Norm)\n",
        "AdotB = 2 * np.matmul(A, B.T)\n",
        "print(AdotB)\n",
        "\n",
        "D = A_Norm + B_Norm.T - AdotB\n",
        "D = np.sqrt(D)\n",
        "D\n"
      ]
    },
    {
      "cell_type": "code",
      "execution_count": 87,
      "metadata": {},
      "outputs": [
        {
          "name": "stdout",
          "output_type": "stream",
          "text": [
            "8.94427190999916\n"
          ]
        }
      ],
      "source": [
        "v1 = np.array([1, -2, 2])\n",
        "v2 = np.array([-3, 6, 2])\n",
        "euclidean_distance = np.linalg.norm(v1 - v2)\n",
        "print(euclidean_distance)"
      ]
    },
    {
      "cell_type": "code",
      "execution_count": null,
      "metadata": {},
      "outputs": [],
      "source": []
    }
  ],
  "metadata": {
    "colab": {
      "provenance": []
    },
    "kernelspec": {
      "display_name": "Python 3 (ipykernel)",
      "language": "python",
      "name": "python3"
    },
    "language_info": {
      "codemirror_mode": {
        "name": "ipython",
        "version": 3
      },
      "file_extension": ".py",
      "mimetype": "text/x-python",
      "name": "python",
      "nbconvert_exporter": "python",
      "pygments_lexer": "ipython3",
      "version": "3.10.12"
    }
  },
  "nbformat": 4,
  "nbformat_minor": 0
}
